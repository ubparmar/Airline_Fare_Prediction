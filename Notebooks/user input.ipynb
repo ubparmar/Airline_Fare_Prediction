{
 "cells": [
  {
   "cell_type": "code",
   "execution_count": 13,
   "id": "0a811649-6d44-4505-9b65-ac4be632d357",
   "metadata": {},
   "outputs": [],
   "source": [
    "import pandas as pd\n",
    "from datetime import datetime\n",
    "import joblib"
   ]
  },
  {
   "cell_type": "code",
   "execution_count": 15,
   "id": "8628b110-0523-469a-ab7f-9662a94ed8de",
   "metadata": {},
   "outputs": [
    {
     "name": "stdout",
     "output_type": "stream",
     "text": [
      "User input function created. Ready to use in the next step.\n"
     ]
    }
   ],
   "source": [
    "def get_user_input():\n",
    "    print(\"Please enter the following details for your flight:\")\n",
    "    airline = input(\"Airline: \")\n",
    "    source = input(\"Source airport: \")\n",
    "    destination = input(\"Destination airport: \")\n",
    "    stops = int(input(\"Number of stops: \"))\n",
    "    travel_class = input(\"Class (Economy/Business): \")\n",
    "    date_str = input(\"Date of travel (YYYY-MM-DD): \")\n",
    "    stopover_time = int(input(\"Total stopover time (in minutes): \"))\n",
    "    departure_time = input(\"Departure time (HH:MM): \")\n",
    "    arrival_time = input(\"Arrival time (HH:MM): \")\n",
    "    arrival_day_offset = int(input(\"Arrival day offset (0 if same day, 1 if next day, etc.): \"))\n",
    "\n",
    "    # Calculate days left (assume booking is made today)\n",
    "    date = datetime.strptime(date_str, \"%Y-%m-%d\")\n",
    "    days_left = (date - datetime.now()).days\n",
    "\n",
    "    return {\n",
    "        \"Airline\": airline,\n",
    "        \"Source\": source,\n",
    "        \"Destination\": destination,\n",
    "        \"Number of Stops\": stops,\n",
    "        \"Class\": travel_class,\n",
    "        \"Date\": date_str,\n",
    "        \"Total_Stopover_Time\": stopover_time,\n",
    "        \"days_left\": days_left,\n",
    "        \"Departure_24hr\": departure_time,\n",
    "        \"Arrival_24hr\": arrival_time,\n",
    "        \"Arrival_Day_Offset\": arrival_day_offset\n",
    "    }\n",
    "\n",
    "print(\"User input function created. Ready to use in the next step.\")"
   ]
  },
  {
   "cell_type": "code",
   "execution_count": 7,
   "id": "9492a219-0134-47ea-9bb0-0706271e356b",
   "metadata": {},
   "outputs": [],
   "source": [
    "# Load the saved label encoders\n",
    "le_dict = joblib.load('label_encoders.joblib')"
   ]
  },
  {
   "cell_type": "code",
   "execution_count": 31,
   "id": "161d1a8c-003e-4115-abce-05d6d9896eed",
   "metadata": {},
   "outputs": [],
   "source": [
    "# Function to preprocess user input\n",
    "def preprocess_user_input(user_input):\n",
    "    user_df = pd.DataFrame([user_input])\n",
    "    user_df['Date'] = pd.to_datetime(user_df['Date'])\n",
    "    user_df['Month'] = user_df['Date'].dt.month\n",
    "    user_df['DayOfWeek'] = user_df['Date'].dt.dayofweek\n",
    "\n",
    "    def time_to_minutes(time_str):\n",
    "        hours, minutes = map(int, time_str.split(':'))\n",
    "        return hours * 60 + minutes\n",
    "\n",
    "    user_df['Departure_Minutes'] = user_df['Departure_24hr'].apply(time_to_minutes)\n",
    "    user_df['Arrival_Minutes'] = user_df['Arrival_24hr'].apply(time_to_minutes)\n",
    "\n",
    "    # Encode categorical variables\n",
    "    for col in ['Airline', 'Source', 'Destination', 'Class']:\n",
    "        user_df[col + '_encoded'] = le_dict[col].transform(user_df[col])\n",
    "\n",
    "    # Select features for prediction\n",
    "    features = ['Number of Stops', 'Total_Stopover_Time', 'days_left', 'Arrival_Day_Offset',\n",
    "                'Month', 'DayOfWeek', 'Departure_Minutes', 'Arrival_Minutes',\n",
    "                'Airline_encoded', 'Source_encoded', 'Destination_encoded', 'Class_encoded']\n",
    "\n",
    "    return user_df[features]"
   ]
  },
  {
   "cell_type": "code",
   "execution_count": 49,
   "id": "0fc0b785-bad2-4f8a-a549-468c33466254",
   "metadata": {},
   "outputs": [
    {
     "name": "stdout",
     "output_type": "stream",
     "text": [
      "Preprocessed user input:\n",
      "   Number of Stops  Total_Stopover_Time  days_left  Arrival_Day_Offset  Month  \\\n",
      "0                1                  120         25                   1      8   \n",
      "\n",
      "   DayOfWeek  Departure_Minutes  Arrival_Minutes  Airline_encoded  \\\n",
      "0          6                610              185               10   \n",
      "\n",
      "   Source_encoded  Destination_encoded  Class_encoded  \n",
      "0              13                    0              0  \n"
     ]
    }
   ],
   "source": [
    "# Simulated user input (replace this with actual user input in production)\n",
    "user_input = {\n",
    "    \"Airline\": \"British Airways\",\n",
    "    \"Source\": \"Toronto Pearson Intl\",\n",
    "    \"Destination\": \"Bengaluru Intl\",\n",
    "    \"Number of Stops\": 1,\n",
    "    \"Class\": \"Business Class\",\n",
    "    \"Date\": \"2024-08-11\",\n",
    "    \"Total_Stopover_Time\": 120,\n",
    "    \"Departure_24hr\": \"10:10\",\n",
    "    \"Arrival_24hr\": \"03:05\",\n",
    "    \"Arrival_Day_Offset\": 1,\n",
    "    \"days_left\": 25\n",
    "}\n",
    "\n",
    "# Preprocess user input\n",
    "processed_input = preprocess_user_input(user_input)\n",
    "\n",
    "print(\"Preprocessed user input:\")\n",
    "print(processed_input)"
   ]
  },
  {
   "cell_type": "code",
   "execution_count": 51,
   "id": "bf889969-a137-4fd8-8815-36dea9edbd61",
   "metadata": {},
   "outputs": [],
   "source": [
    "import joblib\n",
    "import pandas as pd\n",
    "\n",
    "# Load the trained model\n",
    "model = joblib.load('extratrees_model.joblib')\n",
    "\n"
   ]
  },
  {
   "cell_type": "code",
   "execution_count": 52,
   "id": "ea3a8efd-4fe3-4871-80da-e1a80f4e93a5",
   "metadata": {},
   "outputs": [
    {
     "name": "stdout",
     "output_type": "stream",
     "text": [
      "Predicted price for the flight: 4016.63 CAD\n",
      "\n",
      "Top 5 most important features:\n",
      "               feature  importance\n",
      "0        Class_encoded    0.376116\n",
      "1    Departure_Minutes    0.088292\n",
      "2      Arrival_Minutes    0.085761\n",
      "3       Source_encoded    0.084061\n",
      "4  Destination_encoded    0.077445\n"
     ]
    }
   ],
   "source": [
    "# Load the preprocessed user input (assuming it's still in memory from the previous step)\n",
    "# If it's not in memory, you would need to run the preprocessing step again\n",
    "\n",
    "# Make prediction\n",
    "predicted_price = model.predict(processed_input)[0]\n",
    "\n",
    "print(f\"Predicted price for the flight: {predicted_price:.2f} CAD\")\n",
    "\n",
    "# Feature importance\n",
    "feature_importance = pd.DataFrame({'feature': processed_input.columns, 'importance': model.feature_importances_})\n",
    "feature_importance = feature_importance.sort_values('importance', ascending=False).reset_index(drop=True)\n",
    "\n",
    "print(\"\\nTop 5 most important features:\")\n",
    "print(feature_importance.head())"
   ]
  },
  {
   "cell_type": "code",
   "execution_count": null,
   "id": "4398eef0-4f28-46fd-9582-36b1351c8221",
   "metadata": {},
   "outputs": [],
   "source": []
  },
  {
   "cell_type": "code",
   "execution_count": null,
   "id": "bb06874c-d77b-45b1-b80a-6b8a2ac3458d",
   "metadata": {},
   "outputs": [],
   "source": []
  }
 ],
 "metadata": {
  "kernelspec": {
   "display_name": "Python 3 (ipykernel)",
   "language": "python",
   "name": "python3"
  },
  "language_info": {
   "codemirror_mode": {
    "name": "ipython",
    "version": 3
   },
   "file_extension": ".py",
   "mimetype": "text/x-python",
   "name": "python",
   "nbconvert_exporter": "python",
   "pygments_lexer": "ipython3",
   "version": "3.11.5"
  }
 },
 "nbformat": 4,
 "nbformat_minor": 5
}
